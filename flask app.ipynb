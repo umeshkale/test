{
 "cells": [
  {
   "cell_type": "code",
   "execution_count": 3,
   "id": "f2706297",
   "metadata": {
    "ExecuteTime": {
     "end_time": "2023-05-25T03:20:34.939689Z",
     "start_time": "2023-05-25T03:20:29.479496Z"
    },
    "collapsed": true
   },
   "outputs": [
    {
     "name": "stdout",
     "output_type": "stream",
     "text": [
      "Requirement already satisfied: flask in c:\\users\\umeshkale\\anaconda3\\lib\\site-packages (1.1.2)\n",
      "Requirement already satisfied: click>=5.1 in c:\\users\\umeshkale\\anaconda3\\lib\\site-packages (from flask) (8.0.3)\n",
      "Requirement already satisfied: Werkzeug>=0.15 in c:\\users\\umeshkale\\anaconda3\\lib\\site-packages (from flask) (2.0.2)\n",
      "Requirement already satisfied: Jinja2>=2.10.1 in c:\\users\\umeshkale\\anaconda3\\lib\\site-packages (from flask) (2.11.3)\n",
      "Requirement already satisfied: itsdangerous>=0.24 in c:\\users\\umeshkale\\anaconda3\\lib\\site-packages (from flask) (2.0.1)\n",
      "Requirement already satisfied: colorama in c:\\users\\umeshkale\\anaconda3\\lib\\site-packages (from click>=5.1->flask) (0.4.4)\n",
      "Requirement already satisfied: MarkupSafe>=0.23 in c:\\users\\umeshkale\\anaconda3\\lib\\site-packages (from Jinja2>=2.10.1->flask) (2.0.1)\n"
     ]
    },
    {
     "name": "stderr",
     "output_type": "stream",
     "text": [
      "\n",
      "[notice] A new release of pip available: 22.3.1 -> 23.1.2\n",
      "[notice] To update, run: python.exe -m pip install --upgrade pip\n"
     ]
    }
   ],
   "source": [
    "# !pip install pandas openpyxl\n",
    "!pip install flask\n"
   ]
  },
  {
   "cell_type": "code",
   "execution_count": 1,
   "id": "04d93073",
   "metadata": {
    "ExecuteTime": {
     "end_time": "2023-05-25T08:33:16.282877Z",
     "start_time": "2023-05-25T08:33:12.137173Z"
    }
   },
   "outputs": [],
   "source": [
    "from flask import Flask, render_template, request, send_file\n",
    "import pandas as pd\n",
    "import os\n",
    "from IPython.display import display, HTML\n"
   ]
  },
  {
   "cell_type": "code",
   "execution_count": 2,
   "id": "aebe930c",
   "metadata": {
    "ExecuteTime": {
     "end_time": "2023-05-25T03:26:18.407851Z",
     "start_time": "2023-05-25T03:26:18.396882Z"
    }
   },
   "outputs": [],
   "source": [
    "app = Flask(__name__)\n"
   ]
  },
  {
   "cell_type": "code",
   "execution_count": 3,
   "id": "7ed5dcce",
   "metadata": {
    "ExecuteTime": {
     "end_time": "2023-05-25T03:26:21.819031Z",
     "start_time": "2023-05-25T03:26:18.409845Z"
    }
   },
   "outputs": [
    {
     "name": "stdout",
     "output_type": "stream",
     "text": [
      " * Serving Flask app \"__main__\" (lazy loading)\n",
      " * Environment: production\n",
      "\u001b[31m   WARNING: This is a development server. Do not use it in a production deployment.\u001b[0m\n",
      "\u001b[2m   Use a production WSGI server instead.\u001b[0m\n",
      " * Debug mode: on\n"
     ]
    },
    {
     "name": "stderr",
     "output_type": "stream",
     "text": [
      " * Restarting with watchdog (windowsapi)\n"
     ]
    },
    {
     "ename": "SystemExit",
     "evalue": "1",
     "output_type": "error",
     "traceback": [
      "An exception has occurred, use %tb to see the full traceback.\n",
      "\u001b[1;31mSystemExit\u001b[0m\u001b[1;31m:\u001b[0m 1\n"
     ]
    },
    {
     "name": "stderr",
     "output_type": "stream",
     "text": [
      "C:\\Users\\umeshkale\\anaconda3\\lib\\site-packages\\IPython\\core\\interactiveshell.py:3452: UserWarning: To exit: use 'exit', 'quit', or Ctrl-D.\n",
      "  warn(\"To exit: use 'exit', 'quit', or Ctrl-D.\", stacklevel=1)\n"
     ]
    }
   ],
   "source": [
    "@app.route('/', methods=['GET', 'POST'])\n",
    "def upload_file():\n",
    "    if request.method == 'POST':\n",
    "        file = request.files['file']\n",
    "        if file.filename != '':\n",
    "            # Save the uploaded file to a temporary location\n",
    "            file_path = os.path.join('temp', file.filename)\n",
    "            file.save(file_path)\n",
    "            # Read the Excel file into a pandas DataFrame\n",
    "            df = pd.read_excel(file_path)\n",
    "            # Display the DataFrame\n",
    "            display(HTML(df.to_html(index=False)))\n",
    "    return '''\n",
    "    <h1>Upload Excel File</h1>\n",
    "    <form method=\"POST\" enctype=\"multipart/form-data\">\n",
    "        <input type=\"file\" name=\"file\" accept=\".xlsx, .xls\">\n",
    "        <input type=\"submit\" value=\"Upload\">\n",
    "    </form>\n",
    "    '''\n",
    "\n",
    "# app.run(debug=True)\n",
    "# app.run(debug=True, port=5001)\n",
    "try:\n",
    "    app.run(debug=True, port=5001)\n",
    "except Exception as e:\n",
    "    print(e)\n",
    "\n",
    "\n"
   ]
  },
  {
   "cell_type": "code",
   "execution_count": 6,
   "id": "95a44a45",
   "metadata": {
    "ExecuteTime": {
     "end_time": "2023-05-25T03:25:59.800050Z",
     "start_time": "2023-05-25T03:25:59.795076Z"
    }
   },
   "outputs": [],
   "source": [
    "# %tb"
   ]
  },
  {
   "cell_type": "code",
   "execution_count": 2,
   "id": "ea4b11da",
   "metadata": {
    "ExecuteTime": {
     "end_time": "2023-05-25T08:33:21.397610Z",
     "start_time": "2023-05-25T08:33:16.286884Z"
    }
   },
   "outputs": [
    {
     "name": "stdout",
     "output_type": "stream",
     "text": [
      " * Serving Flask app \"__main__\" (lazy loading)\n",
      " * Environment: production\n",
      "\u001b[31m   WARNING: This is a development server. Do not use it in a production deployment.\u001b[0m\n",
      "\u001b[2m   Use a production WSGI server instead.\u001b[0m\n",
      " * Debug mode: on\n"
     ]
    },
    {
     "name": "stderr",
     "output_type": "stream",
     "text": [
      " * Restarting with watchdog (windowsapi)\n"
     ]
    },
    {
     "ename": "SystemExit",
     "evalue": "1",
     "output_type": "error",
     "traceback": [
      "An exception has occurred, use %tb to see the full traceback.\n",
      "\u001b[1;31mSystemExit\u001b[0m\u001b[1;31m:\u001b[0m 1\n"
     ]
    },
    {
     "name": "stderr",
     "output_type": "stream",
     "text": [
      "C:\\Users\\umeshkale\\anaconda3\\lib\\site-packages\\IPython\\core\\interactiveshell.py:3452: UserWarning: To exit: use 'exit', 'quit', or Ctrl-D.\n",
      "  warn(\"To exit: use 'exit', 'quit', or Ctrl-D.\", stacklevel=1)\n"
     ]
    }
   ],
   "source": [
    "from flask import Flask, send_file\n",
    "import pandas as pd\n",
    "import io\n",
    "\n",
    "app = Flask(__name__)\n",
    "\n",
    "@app.route('/download', methods=['GET'])\n",
    "def download_excel():\n",
    "    # Generate your DataFrame\n",
    "    df = pd.DataFrame({'Column 1': [1, 2, 3], 'Column 2': ['A', 'B', 'C']})\n",
    "\n",
    "    # Convert DataFrame to Excel file\n",
    "    excel_file = io.BytesIO()\n",
    "    writer = pd.ExcelWriter(excel_file, engine='xlsxwriter')\n",
    "    df.to_excel(writer, sheet_name='Sheet1', index=False)\n",
    "    writer.save()\n",
    "    excel_file.seek(0)\n",
    "\n",
    "    # Serve the Excel file for download\n",
    "    return send_file(excel_file, attachment_filename='data.xlsx', as_attachment=True)\n",
    "\n",
    "if __name__ == '__main__':\n",
    "    app.run(debug=True)\n"
   ]
  },
  {
   "cell_type": "code",
   "execution_count": 3,
   "id": "26713d03",
   "metadata": {
    "ExecuteTime": {
     "end_time": "2023-05-25T10:21:33.570417Z",
     "start_time": "2023-05-25T10:21:26.519526Z"
    }
   },
   "outputs": [
    {
     "name": "stderr",
     "output_type": "stream",
     "text": [
      "ERROR: Could not find a version that satisfies the requirement jupyter-ngrok (from versions: none)\n",
      "ERROR: No matching distribution found for jupyter-ngrok\n",
      "\n",
      "[notice] A new release of pip available: 22.3.1 -> 23.1.2\n",
      "[notice] To update, run: python.exe -m pip install --upgrade pip\n"
     ]
    }
   ],
   "source": [
    "! pip install jupyter-ngrok\n"
   ]
  },
  {
   "cell_type": "code",
   "execution_count": 4,
   "id": "cd9ab681",
   "metadata": {
    "ExecuteTime": {
     "end_time": "2023-05-25T10:22:51.732197Z",
     "start_time": "2023-05-25T10:22:50.749871Z"
    }
   },
   "outputs": [
    {
     "ename": "ModuleNotFoundError",
     "evalue": "No module named 'flask_excel'",
     "output_type": "error",
     "traceback": [
      "\u001b[1;31m---------------------------------------------------------------------------\u001b[0m",
      "\u001b[1;31mModuleNotFoundError\u001b[0m                       Traceback (most recent call last)",
      "\u001b[1;32mC:\\Users\\Public\\Documents\\Wondershare\\CreatorTemp/ipykernel_3256/2935617188.py\u001b[0m in \u001b[0;36m<module>\u001b[1;34m\u001b[0m\n\u001b[0;32m      1\u001b[0m \u001b[1;32mfrom\u001b[0m \u001b[0mflask\u001b[0m \u001b[1;32mimport\u001b[0m \u001b[0mFlask\u001b[0m\u001b[1;33m,\u001b[0m \u001b[0msend_file\u001b[0m\u001b[1;33m\u001b[0m\u001b[1;33m\u001b[0m\u001b[0m\n\u001b[1;32m----> 2\u001b[1;33m \u001b[1;32mfrom\u001b[0m \u001b[0mflask_excel\u001b[0m \u001b[1;32mimport\u001b[0m \u001b[0mmake_response_from_file\u001b[0m\u001b[1;33m\u001b[0m\u001b[1;33m\u001b[0m\u001b[0m\n\u001b[0m\u001b[0;32m      3\u001b[0m \u001b[1;32mfrom\u001b[0m \u001b[0mflask_ngrok\u001b[0m \u001b[1;32mimport\u001b[0m \u001b[0mrun_with_ngrok\u001b[0m\u001b[1;33m\u001b[0m\u001b[1;33m\u001b[0m\u001b[0m\n\u001b[0;32m      4\u001b[0m \u001b[1;33m\u001b[0m\u001b[0m\n\u001b[0;32m      5\u001b[0m \u001b[0mapp\u001b[0m \u001b[1;33m=\u001b[0m \u001b[0mFlask\u001b[0m\u001b[1;33m(\u001b[0m\u001b[0m__name__\u001b[0m\u001b[1;33m)\u001b[0m\u001b[1;33m\u001b[0m\u001b[1;33m\u001b[0m\u001b[0m\n",
      "\u001b[1;31mModuleNotFoundError\u001b[0m: No module named 'flask_excel'"
     ]
    }
   ],
   "source": [
    "from flask import Flask, send_file\n",
    "from flask_excel import make_response_from_file\n",
    "from flask_ngrok import run_with_ngrok\n",
    "\n",
    "app = Flask(__name__)\n",
    "run_with_ngrok(app)\n",
    "\n",
    "@app.route('/download-excel')\n",
    "def download_excel():\n",
    "    filename = 'path/to/excel/file.xlsx'\n",
    "    return make_response_from_file(filename, file_type='xlsx')\n",
    "\n",
    "@app.route('/view-excel')\n",
    "def view_excel():\n",
    "    filename = 'path/to/excel/file.xlsx'\n",
    "    return send_file(filename, mimetype='application/vnd.openxmlformats-officedocument.spreadsheetml.sheet')\n",
    "\n",
    "if __name__ == '__main__':\n",
    "    app.run(debug=True)\n"
   ]
  },
  {
   "cell_type": "code",
   "execution_count": 2,
   "id": "f4ff201d",
   "metadata": {
    "ExecuteTime": {
     "end_time": "2023-05-25T10:31:38.741010Z",
     "start_time": "2023-05-25T10:29:30.366542Z"
    }
   },
   "outputs": [
    {
     "name": "stdout",
     "output_type": "stream",
     "text": [
      " * Serving Flask app \"__main__\" (lazy loading)\n",
      " * Environment: production\n",
      "\u001b[31m   WARNING: This is a development server. Do not use it in a production deployment.\u001b[0m\n",
      "\u001b[2m   Use a production WSGI server instead.\u001b[0m\n",
      " * Debug mode: off\n"
     ]
    },
    {
     "name": "stderr",
     "output_type": "stream",
     "text": [
      " * Running on http://127.0.0.1:5000/ (Press CTRL+C to quit)\n",
      "127.0.0.1 - - [25/May/2023 15:59:33] \"GET / HTTP/1.1\" 404 -\n",
      "127.0.0.1 - - [25/May/2023 15:59:43] \"GET / HTTP/1.1\" 404 -\n"
     ]
    }
   ],
   "source": [
    "from flask import Flask, send_file\n",
    "\n",
    "import pandas_profiling\n",
    "\n",
    "app = Flask(__name__)\n",
    "\n",
    "@app.route('/download-excel')\n",
    "def download_excel():\n",
    "    filename = 'D:\\downloads\\EAD V1.2 - Jul-2021 (1).xlsx'\n",
    "    return send_file(filename, as_attachment=True)\n",
    "\n",
    "@app.route('/view-excel')\n",
    "def view_excel():\n",
    "    filename = 'D:\\downloads\\EAD V1.2 - Jul-2021 (1).xlsx'\n",
    "    df = pd.read_excel(filename)\n",
    "    report = df.profile_report()\n",
    "    report.to_file('path/to/output/report.html')\n",
    "    return send_file('path/to/output/report.html')\n",
    "\n",
    "if __name__ == '__main__':\n",
    "    app.run()\n"
   ]
  },
  {
   "cell_type": "code",
   "execution_count": 4,
   "id": "a9282dce",
   "metadata": {
    "ExecuteTime": {
     "end_time": "2023-05-25T10:31:38.824064Z",
     "start_time": "2023-05-25T10:31:38.814869Z"
    }
   },
   "outputs": [],
   "source": [
    "# 'D:\\downloads\\EAD V1.2 - Jul-2021 (1).xlsx'"
   ]
  },
  {
   "cell_type": "code",
   "execution_count": null,
   "id": "815538e8",
   "metadata": {
    "ExecuteTime": {
     "start_time": "2023-05-25T14:45:15.448Z"
    }
   },
   "outputs": [],
   "source": [
    "from flask import Flask, send_file\n",
    "\n",
    "import pandas as pd\n",
    "import pandas_profiling\n",
    "\n",
    "app = Flask(__name__)\n",
    "\n",
    "@app.route('/download-excel')\n",
    "def download_excel():\n",
    "    filename = 'D:\\downloads\\EAD V1.2 - Jul-2021 (1).xlsx'\n",
    "    return send_file(filename, as_attachment=True)\n",
    "\n",
    "@app.route('/view-excel')\n",
    "def view_excel():\n",
    "    filename = 'D:\\downloads\\EAD V1.2 - Jul-2021 (1).xlsx'\n",
    "    df = pd.read_excel(filename)\n",
    "    report = df.profile_report()\n",
    "    report.to_file('path/to/output/report.html')\n",
    "    return send_file('path/to/output/report.html')\n",
    "\n",
    "if __name__ == '__main__':\n",
    "    app.run()\n"
   ]
  },
  {
   "cell_type": "code",
   "execution_count": null,
   "id": "7f788228",
   "metadata": {
    "ExecuteTime": {
     "start_time": "2023-05-25T10:41:58.361Z"
    }
   },
   "outputs": [],
   "source": [
    "from flask import Flask, send_file\n",
    "\n",
    "app = Flask(__name__)\n",
    "\n",
    "@app.route('/download-excel')\n",
    "def download_excel():\n",
    "    filename = 'D:\\downloads\\EAD V1.2 - Jul-2021 (1).xlsx'\n",
    "    return send_file(filename, as_attachment=True)\n",
    "\n",
    "if __name__ == '__main__':\n",
    "    app.run()\n"
   ]
  },
  {
   "cell_type": "code",
   "execution_count": null,
   "id": "d1d41bc3",
   "metadata": {
    "ExecuteTime": {
     "start_time": "2023-05-26T03:56:00.795Z"
    }
   },
   "outputs": [
    {
     "name": "stdout",
     "output_type": "stream",
     "text": [
      " * Serving Flask app \"__main__\" (lazy loading)\n",
      " * Environment: production\n",
      "\u001b[31m   WARNING: This is a development server. Do not use it in a production deployment.\u001b[0m\n",
      "\u001b[2m   Use a production WSGI server instead.\u001b[0m\n",
      " * Debug mode: off\n"
     ]
    },
    {
     "name": "stderr",
     "output_type": "stream",
     "text": [
      " * Running on http://127.0.0.1:5000/ (Press CTRL+C to quit)\n",
      "127.0.0.1 - - [26/May/2023 09:26:02] \"GET / HTTP/1.1\" 404 -\n",
      "127.0.0.1 - - [26/May/2023 09:26:09] \"GET /view HTTP/1.1\" 200 -\n"
     ]
    }
   ],
   "source": [
    "from flask import Flask, send_file\n",
    "import pandas as pd\n",
    "\n",
    "app=Flask(__name__)\n",
    "@app.route('/download')\n",
    "\n",
    "def download_excel():\n",
    "    filename=r'C:\\Users\\umeshkale\\Vscode\\Financials Sample Data.xlsx'\n",
    "    return send_file(filename,as_attachment=True)\n",
    "\n",
    "@app.route('/view')\n",
    "def view_excel():\n",
    "    filename=r'C:\\Users\\umeshkale\\Vscode\\Financials Sample Data.xlsx'\n",
    "    df=pd.read_excel(filename)\n",
    "    html_df=df.to_html()\n",
    "    \n",
    "    return html_df\n",
    "\n",
    "if __name__=='__main__':\n",
    "    app.run()\n",
    "    \n",
    "    "
   ]
  },
  {
   "cell_type": "code",
   "execution_count": 3,
   "id": "a573cd95",
   "metadata": {
    "ExecuteTime": {
     "end_time": "2023-05-26T03:54:06.893070Z",
     "start_time": "2023-05-26T03:54:00.184163Z"
    }
   },
   "outputs": [],
   "source": [
    "import pandas as pd\n",
    "df=pd.read_excel(r'C:\\Users\\umeshkale\\Vscode\\Financials Sample Data.xlsx')"
   ]
  },
  {
   "cell_type": "code",
   "execution_count": 4,
   "id": "553c0c3a",
   "metadata": {
    "ExecuteTime": {
     "end_time": "2023-05-26T03:54:07.779991Z",
     "start_time": "2023-05-26T03:54:07.696690Z"
    }
   },
   "outputs": [
    {
     "data": {
      "text/html": [
       "<div>\n",
       "<style scoped>\n",
       "    .dataframe tbody tr th:only-of-type {\n",
       "        vertical-align: middle;\n",
       "    }\n",
       "\n",
       "    .dataframe tbody tr th {\n",
       "        vertical-align: top;\n",
       "    }\n",
       "\n",
       "    .dataframe thead th {\n",
       "        text-align: right;\n",
       "    }\n",
       "</style>\n",
       "<table border=\"1\" class=\"dataframe\">\n",
       "  <thead>\n",
       "    <tr style=\"text-align: right;\">\n",
       "      <th></th>\n",
       "      <th>Account</th>\n",
       "      <th>Businees Unit</th>\n",
       "      <th>Currency</th>\n",
       "      <th>Year</th>\n",
       "      <th>Scenario</th>\n",
       "      <th>Jan</th>\n",
       "      <th>Feb</th>\n",
       "      <th>Mar</th>\n",
       "      <th>Apr</th>\n",
       "      <th>May</th>\n",
       "      <th>Jun</th>\n",
       "      <th>Jul</th>\n",
       "      <th>Aug</th>\n",
       "      <th>Sep</th>\n",
       "      <th>Oct</th>\n",
       "      <th>Nov</th>\n",
       "      <th>Dec</th>\n",
       "    </tr>\n",
       "  </thead>\n",
       "  <tbody>\n",
       "    <tr>\n",
       "      <th>0</th>\n",
       "      <td>Sales</td>\n",
       "      <td>Software</td>\n",
       "      <td>USD</td>\n",
       "      <td>2012</td>\n",
       "      <td>Actuals</td>\n",
       "      <td>90924002.0</td>\n",
       "      <td>82606134.0</td>\n",
       "      <td>72780220.0</td>\n",
       "      <td>52943701.0</td>\n",
       "      <td>77528109.0</td>\n",
       "      <td>96384524.0</td>\n",
       "      <td>77345061.0</td>\n",
       "      <td>98290873.0</td>\n",
       "      <td>79879127.0</td>\n",
       "      <td>95373403.0</td>\n",
       "      <td>54887908.0</td>\n",
       "      <td>82703597.0</td>\n",
       "    </tr>\n",
       "    <tr>\n",
       "      <th>1</th>\n",
       "      <td>Cost of Goods Sold</td>\n",
       "      <td>Software</td>\n",
       "      <td>USD</td>\n",
       "      <td>2012</td>\n",
       "      <td>Actuals</td>\n",
       "      <td>-41623278.0</td>\n",
       "      <td>-40464347.0</td>\n",
       "      <td>-30806326.0</td>\n",
       "      <td>-21412962.0</td>\n",
       "      <td>-37047252.0</td>\n",
       "      <td>-44819597.0</td>\n",
       "      <td>-34847393.0</td>\n",
       "      <td>-47903350.0</td>\n",
       "      <td>-35880653.0</td>\n",
       "      <td>-44982115.0</td>\n",
       "      <td>-26929424.0</td>\n",
       "      <td>-34233473.0</td>\n",
       "    </tr>\n",
       "    <tr>\n",
       "      <th>2</th>\n",
       "      <td>Commissions Expense</td>\n",
       "      <td>Software</td>\n",
       "      <td>USD</td>\n",
       "      <td>2012</td>\n",
       "      <td>Actuals</td>\n",
       "      <td>-4454359.0</td>\n",
       "      <td>-3386032.0</td>\n",
       "      <td>-3389705.0</td>\n",
       "      <td>-2149257.0</td>\n",
       "      <td>-3168079.0</td>\n",
       "      <td>-4417624.0</td>\n",
       "      <td>-3386461.0</td>\n",
       "      <td>-4052846.0</td>\n",
       "      <td>-3418737.0</td>\n",
       "      <td>-4365527.0</td>\n",
       "      <td>-2455561.0</td>\n",
       "      <td>-3646726.0</td>\n",
       "    </tr>\n",
       "    <tr>\n",
       "      <th>3</th>\n",
       "      <td>Payroll Expense</td>\n",
       "      <td>Software</td>\n",
       "      <td>USD</td>\n",
       "      <td>2012</td>\n",
       "      <td>Actuals</td>\n",
       "      <td>-9901680.0</td>\n",
       "      <td>-9871172.0</td>\n",
       "      <td>-8459696.0</td>\n",
       "      <td>-6303408.0</td>\n",
       "      <td>-8493573.0</td>\n",
       "      <td>-11082494.0</td>\n",
       "      <td>-8081033.0</td>\n",
       "      <td>-11070018.0</td>\n",
       "      <td>-8410665.0</td>\n",
       "      <td>-10081727.0</td>\n",
       "      <td>-6300578.0</td>\n",
       "      <td>-9099438.0</td>\n",
       "    </tr>\n",
       "    <tr>\n",
       "      <th>4</th>\n",
       "      <td>Travel &amp; Entertainment Expense</td>\n",
       "      <td>Software</td>\n",
       "      <td>USD</td>\n",
       "      <td>2012</td>\n",
       "      <td>Actuals</td>\n",
       "      <td>-951255.0</td>\n",
       "      <td>-838985.0</td>\n",
       "      <td>-872700.0</td>\n",
       "      <td>-624416.0</td>\n",
       "      <td>-919835.0</td>\n",
       "      <td>-1085296.0</td>\n",
       "      <td>-818602.0</td>\n",
       "      <td>-1040585.0</td>\n",
       "      <td>-803190.0</td>\n",
       "      <td>-1158623.0</td>\n",
       "      <td>-611335.0</td>\n",
       "      <td>-941542.0</td>\n",
       "    </tr>\n",
       "  </tbody>\n",
       "</table>\n",
       "</div>"
      ],
      "text/plain": [
       "                          Account Businees Unit Currency  Year Scenario  \\\n",
       "0                           Sales      Software      USD  2012  Actuals   \n",
       "1              Cost of Goods Sold      Software      USD  2012  Actuals   \n",
       "2             Commissions Expense      Software      USD  2012  Actuals   \n",
       "3                 Payroll Expense      Software      USD  2012  Actuals   \n",
       "4  Travel & Entertainment Expense      Software      USD  2012  Actuals   \n",
       "\n",
       "          Jan         Feb         Mar         Apr         May         Jun  \\\n",
       "0  90924002.0  82606134.0  72780220.0  52943701.0  77528109.0  96384524.0   \n",
       "1 -41623278.0 -40464347.0 -30806326.0 -21412962.0 -37047252.0 -44819597.0   \n",
       "2  -4454359.0  -3386032.0  -3389705.0  -2149257.0  -3168079.0  -4417624.0   \n",
       "3  -9901680.0  -9871172.0  -8459696.0  -6303408.0  -8493573.0 -11082494.0   \n",
       "4   -951255.0   -838985.0   -872700.0   -624416.0   -919835.0  -1085296.0   \n",
       "\n",
       "          Jul         Aug         Sep         Oct         Nov         Dec  \n",
       "0  77345061.0  98290873.0  79879127.0  95373403.0  54887908.0  82703597.0  \n",
       "1 -34847393.0 -47903350.0 -35880653.0 -44982115.0 -26929424.0 -34233473.0  \n",
       "2  -3386461.0  -4052846.0  -3418737.0  -4365527.0  -2455561.0  -3646726.0  \n",
       "3  -8081033.0 -11070018.0  -8410665.0 -10081727.0  -6300578.0  -9099438.0  \n",
       "4   -818602.0  -1040585.0   -803190.0  -1158623.0   -611335.0   -941542.0  "
      ]
     },
     "execution_count": 4,
     "metadata": {},
     "output_type": "execute_result"
    }
   ],
   "source": [
    "df.head()"
   ]
  },
  {
   "cell_type": "code",
   "execution_count": null,
   "id": "1e02b3df",
   "metadata": {},
   "outputs": [],
   "source": []
  }
 ],
 "metadata": {
  "kernelspec": {
   "display_name": "Python 3 (ipykernel)",
   "language": "python",
   "name": "python3"
  },
  "language_info": {
   "codemirror_mode": {
    "name": "ipython",
    "version": 3
   },
   "file_extension": ".py",
   "mimetype": "text/x-python",
   "name": "python",
   "nbconvert_exporter": "python",
   "pygments_lexer": "ipython3",
   "version": "3.9.7"
  }
 },
 "nbformat": 4,
 "nbformat_minor": 5
}
